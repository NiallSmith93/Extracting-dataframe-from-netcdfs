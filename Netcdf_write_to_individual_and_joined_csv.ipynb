{
 "cells": [
  {
   "cell_type": "code",
   "execution_count": 2,
   "metadata": {},
   "outputs": [],
   "source": [
    "import netCDF4\n",
    "from netCDF4 import num2date\n",
    "import numpy as np\n",
    "import os\n",
    "import pandas as pd\n",
    "import glob\n",
    " \n",
    "# Writing all .nc files in directory to individual named csv files\n",
    "all_dirs = glob.glob(r'C:\\PATH_TO_FILES\\NetCDFs\\pr\\*.nc')\n",
    "\n",
    "all_filenames = os.listdir(r'C:\\PATH_TO_FILES\\NetCDFs\\pr')\n",
    "\n",
    "output_dir = (r'C:\\PATH_TO_FILES\\NetCDFs\\pr')\n",
    "\n",
    "for f in all_filenames:\n",
    "        for d in all_dirs:\n",
    "            f = netCDF4.Dataset(d)\n",
    "            var = f.variables['mean']\n",
    "            time_dim, level_dim, lat_dim, lon_dim = var.get_dims()\n",
    "            time_var = f.variables[time_dim.name]\n",
    "            latitudes = f.variables[lat_dim.name][:]\n",
    "            longitudes = f.variables[lon_dim.name][:]\n",
    "            filename = str(d+'.csv')\n",
    "            latitudes_grid, longitudes_grid = [\n",
    "                x.flatten() for x in np.meshgrid(latitudes, longitudes, indexing='ij')]\n",
    "            df = pd.DataFrame({\n",
    "                'latitude': latitudes_grid,\n",
    "                'longitude': longitudes_grid,\n",
    "                'var': var[:].flatten()})\n",
    "            df.to_csv(filename, index=False)"
   ]
  },
  {
   "cell_type": "code",
   "execution_count": 19,
   "metadata": {},
   "outputs": [
    {
     "data": {
      "text/html": [
       "<div>\n",
       "<style scoped>\n",
       "    .dataframe tbody tr th:only-of-type {\n",
       "        vertical-align: middle;\n",
       "    }\n",
       "\n",
       "    .dataframe tbody tr th {\n",
       "        vertical-align: top;\n",
       "    }\n",
       "\n",
       "    .dataframe thead th {\n",
       "        text-align: right;\n",
       "    }\n",
       "</style>\n",
       "<table border=\"1\" class=\"dataframe\">\n",
       "  <thead>\n",
       "    <tr style=\"text-align: right;\">\n",
       "      <th></th>\n",
       "      <th>latitude</th>\n",
       "      <th>longitude</th>\n",
       "      <th>var</th>\n",
       "      <th>filename</th>\n",
       "      <th>variable</th>\n",
       "      <th>scenario</th>\n",
       "      <th>timeframe</th>\n",
       "    </tr>\n",
       "  </thead>\n",
       "  <tbody>\n",
       "    <tr>\n",
       "      <th>0</th>\n",
       "      <td>-88.75</td>\n",
       "      <td>1.25</td>\n",
       "      <td>0.148791</td>\n",
       "      <td>mean_pr_rcp26_1981-2010.</td>\n",
       "      <td>pr</td>\n",
       "      <td>rcp26</td>\n",
       "      <td>1981-2010</td>\n",
       "    </tr>\n",
       "    <tr>\n",
       "      <th>1</th>\n",
       "      <td>-88.75</td>\n",
       "      <td>3.75</td>\n",
       "      <td>0.148272</td>\n",
       "      <td>mean_pr_rcp26_1981-2010.</td>\n",
       "      <td>pr</td>\n",
       "      <td>rcp26</td>\n",
       "      <td>1981-2010</td>\n",
       "    </tr>\n",
       "    <tr>\n",
       "      <th>2</th>\n",
       "      <td>-88.75</td>\n",
       "      <td>6.25</td>\n",
       "      <td>0.148386</td>\n",
       "      <td>mean_pr_rcp26_1981-2010.</td>\n",
       "      <td>pr</td>\n",
       "      <td>rcp26</td>\n",
       "      <td>1981-2010</td>\n",
       "    </tr>\n",
       "    <tr>\n",
       "      <th>3</th>\n",
       "      <td>-88.75</td>\n",
       "      <td>8.75</td>\n",
       "      <td>0.147796</td>\n",
       "      <td>mean_pr_rcp26_1981-2010.</td>\n",
       "      <td>pr</td>\n",
       "      <td>rcp26</td>\n",
       "      <td>1981-2010</td>\n",
       "    </tr>\n",
       "    <tr>\n",
       "      <th>4</th>\n",
       "      <td>-88.75</td>\n",
       "      <td>11.25</td>\n",
       "      <td>0.146259</td>\n",
       "      <td>mean_pr_rcp26_1981-2010.</td>\n",
       "      <td>pr</td>\n",
       "      <td>rcp26</td>\n",
       "      <td>1981-2010</td>\n",
       "    </tr>\n",
       "    <tr>\n",
       "      <th>5</th>\n",
       "      <td>-88.75</td>\n",
       "      <td>13.75</td>\n",
       "      <td>0.144692</td>\n",
       "      <td>mean_pr_rcp26_1981-2010.</td>\n",
       "      <td>pr</td>\n",
       "      <td>rcp26</td>\n",
       "      <td>1981-2010</td>\n",
       "    </tr>\n",
       "    <tr>\n",
       "      <th>6</th>\n",
       "      <td>-88.75</td>\n",
       "      <td>16.25</td>\n",
       "      <td>0.143356</td>\n",
       "      <td>mean_pr_rcp26_1981-2010.</td>\n",
       "      <td>pr</td>\n",
       "      <td>rcp26</td>\n",
       "      <td>1981-2010</td>\n",
       "    </tr>\n",
       "    <tr>\n",
       "      <th>7</th>\n",
       "      <td>-88.75</td>\n",
       "      <td>18.75</td>\n",
       "      <td>0.142180</td>\n",
       "      <td>mean_pr_rcp26_1981-2010.</td>\n",
       "      <td>pr</td>\n",
       "      <td>rcp26</td>\n",
       "      <td>1981-2010</td>\n",
       "    </tr>\n",
       "    <tr>\n",
       "      <th>8</th>\n",
       "      <td>-88.75</td>\n",
       "      <td>21.25</td>\n",
       "      <td>0.142341</td>\n",
       "      <td>mean_pr_rcp26_1981-2010.</td>\n",
       "      <td>pr</td>\n",
       "      <td>rcp26</td>\n",
       "      <td>1981-2010</td>\n",
       "    </tr>\n",
       "    <tr>\n",
       "      <th>9</th>\n",
       "      <td>-88.75</td>\n",
       "      <td>23.75</td>\n",
       "      <td>0.143404</td>\n",
       "      <td>mean_pr_rcp26_1981-2010.</td>\n",
       "      <td>pr</td>\n",
       "      <td>rcp26</td>\n",
       "      <td>1981-2010</td>\n",
       "    </tr>\n",
       "  </tbody>\n",
       "</table>\n",
       "</div>"
      ],
      "text/plain": [
       "   latitude  longitude       var                  filename variable scenario  \\\n",
       "0    -88.75       1.25  0.148791  mean_pr_rcp26_1981-2010.       pr    rcp26   \n",
       "1    -88.75       3.75  0.148272  mean_pr_rcp26_1981-2010.       pr    rcp26   \n",
       "2    -88.75       6.25  0.148386  mean_pr_rcp26_1981-2010.       pr    rcp26   \n",
       "3    -88.75       8.75  0.147796  mean_pr_rcp26_1981-2010.       pr    rcp26   \n",
       "4    -88.75      11.25  0.146259  mean_pr_rcp26_1981-2010.       pr    rcp26   \n",
       "5    -88.75      13.75  0.144692  mean_pr_rcp26_1981-2010.       pr    rcp26   \n",
       "6    -88.75      16.25  0.143356  mean_pr_rcp26_1981-2010.       pr    rcp26   \n",
       "7    -88.75      18.75  0.142180  mean_pr_rcp26_1981-2010.       pr    rcp26   \n",
       "8    -88.75      21.25  0.142341  mean_pr_rcp26_1981-2010.       pr    rcp26   \n",
       "9    -88.75      23.75  0.143404  mean_pr_rcp26_1981-2010.       pr    rcp26   \n",
       "\n",
       "   timeframe  \n",
       "0  1981-2010  \n",
       "1  1981-2010  \n",
       "2  1981-2010  \n",
       "3  1981-2010  \n",
       "4  1981-2010  \n",
       "5  1981-2010  \n",
       "6  1981-2010  \n",
       "7  1981-2010  \n",
       "8  1981-2010  \n",
       "9  1981-2010  "
      ]
     },
     "execution_count": 19,
     "metadata": {},
     "output_type": "execute_result"
    }
   ],
   "source": [
    "# Concatenate all csv files for variable into one live dataframe with reference column containing metadata\n",
    "\n",
    "df = pd.DataFrame()\n",
    "\n",
    "all_csvs = glob.glob(r'C:\\PATH_TO_FILES\\NetCDFs\\pr\\*.csv')\n",
    "\n",
    "for c in all_csvs:\n",
    "    temp_df = pd.read_csv(c)\n",
    "    temp_df['filename'] = str(c)\n",
    "    df = df.append(temp_df)\n",
    "    \n",
    "df['filename'] = df['filename'].str[-30:]\n",
    "df['filename'] = df['filename'].str[:24]\n",
    "df['variable'] = df['filename'].str[5:7]\n",
    "df['scenario'] = df['filename'].str[8:13]\n",
    "df['timeframe'] = df['filename'].str[14:23]\n",
    "df.head(10)\n",
    "\n",
    "# option to write to master csv file; \n",
    "# df.to_csv(r'C:\\PATH_TO_FILES\\NetCDFs\\pr\\pr_all.csv')"
   ]
  },
  {
   "cell_type": "code",
   "execution_count": 33,
   "metadata": {},
   "outputs": [
    {
     "data": {
      "text/plain": [
       "(248832, 7)"
      ]
     },
     "execution_count": 33,
     "metadata": {},
     "output_type": "execute_result"
    }
   ],
   "source": [
    "## sense checking the output dataframe\n",
    "\n",
    "df.shape"
   ]
  },
  {
   "cell_type": "code",
   "execution_count": 34,
   "metadata": {},
   "outputs": [
    {
     "data": {
      "text/plain": [
       "scenario\n",
       "rcp26    62208\n",
       "rcp45    62208\n",
       "rcp60    62208\n",
       "rcp85    62208\n",
       "Name: timeframe, dtype: int64"
      ]
     },
     "execution_count": 34,
     "metadata": {},
     "output_type": "execute_result"
    }
   ],
   "source": [
    "df.groupby(\"scenario\")[\"timeframe\"].count()"
   ]
  },
  {
   "cell_type": "code",
   "execution_count": 35,
   "metadata": {},
   "outputs": [
    {
     "data": {
      "text/plain": [
       "timeframe\n",
       "1981-2010    41472\n",
       "2026-2055    41472\n",
       "2036-2065    41472\n",
       "2046-2075    41472\n",
       "2056-2085    41472\n",
       "2066-2095    41472\n",
       "Name: scenario, dtype: int64"
      ]
     },
     "execution_count": 35,
     "metadata": {},
     "output_type": "execute_result"
    }
   ],
   "source": [
    "df.groupby('timeframe')['scenario'].count()"
   ]
  },
  {
   "cell_type": "code",
   "execution_count": 36,
   "metadata": {},
   "outputs": [
    {
     "data": {
      "text/plain": [
       "scenario\n",
       "rcp26    2.487508\n",
       "rcp45    2.517377\n",
       "rcp60    2.509138\n",
       "rcp85    2.542828\n",
       "Name: var, dtype: float64"
      ]
     },
     "execution_count": 36,
     "metadata": {},
     "output_type": "execute_result"
    }
   ],
   "source": [
    "df.groupby('scenario')['var'].mean()"
   ]
  },
  {
   "cell_type": "code",
   "execution_count": 41,
   "metadata": {},
   "outputs": [
    {
     "data": {
      "text/plain": [
       "<matplotlib.legend.Legend at 0x1b4180f0>"
      ]
     },
     "execution_count": 41,
     "metadata": {},
     "output_type": "execute_result"
    },
    {
     "data": {
      "image/png": "[encoded data removed]",
      "text/plain": [
       "<Figure size 432x288 with 1 Axes>"
      ]
     },
     "metadata": {
      "needs_background": "light"
     },
     "output_type": "display_data"
    }
   ],
   "source": [
    "df[df[\"scenario\"]=='rcp85'].groupby('timeframe')['var'].mean().plot()\n",
    "df[df[\"scenario\"]=='rcp60'].groupby('timeframe')['var'].mean().plot()\n",
    "df[df[\"scenario\"]=='rcp45'].groupby('timeframe')['var'].mean().plot()\n",
    "df[df[\"scenario\"]=='rcp26'].groupby('timeframe')['var'].mean().plot()\n",
    "plt.ylabel('precipitation (mm/day)')\n",
    "plt.legend(['rcp85', 'rcp60', 'rcp45', 'rcp26'])"
   ]
  },
  {
   "cell_type": "code",
   "execution_count": null,
   "metadata": {},
   "outputs": [],
   "source": []
  }
 ],
 "metadata": {
  "kernelspec": {
   "display_name": "Python 3",
   "language": "python",
   "name": "python3"
  },
  "language_info": {
   "codemirror_mode": {
    "name": "ipython",
    "version": 3
   },
   "file_extension": ".py",
   "mimetype": "text/x-python",
   "name": "python",
   "nbconvert_exporter": "python",
   "pygments_lexer": "ipython3",
   "version": "3.6.10"
  }
 },
 "nbformat": 4,
 "nbformat_minor": 4
}
